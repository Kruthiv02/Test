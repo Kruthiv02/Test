{
  "nbformat": 4,
  "nbformat_minor": 0,
  "metadata": {
    "colab": {
      "provenance": []
    },
    "kernelspec": {
      "name": "python3",
      "display_name": "Python 3"
    },
    "language_info": {
      "name": "python"
    }
  },
  "cells": [
    {
      "cell_type": "markdown",
      "source": [
        "# **API Loading & Transformation**"
      ],
      "metadata": {
        "id": "5RtN9GMsnFAr"
      }
    },
    {
      "cell_type": "markdown",
      "source": [
        "### 1. Loading the **Yahoo Finance** API from Rapid API\n",
        "\n",
        "- API LInk - https://rapidapi.com/sparior/api/yahoo-finance15\n",
        "\n"
      ],
      "metadata": {
        "id": "3QUnpwkWlGAQ"
      }
    },
    {
      "cell_type": "code",
      "execution_count": null,
      "metadata": {
        "colab": {
          "base_uri": "https://localhost:8080/"
        },
        "id": "HTV7WWspgZ7C",
        "outputId": "a04183e5-2d52-4ffc-9845-5eecee19f2f6"
      },
      "outputs": [
        {
          "output_type": "stream",
          "name": "stdout",
          "text": [
            "{'meta': {'version': 'v1.0', 'status': 200, 'copywrite': 'https://apicalls.io', 'count': 20, 'total': 500, 'page': 1}, 'body': [{'symbol': 'TSLA', 'symbolType': 1, 'symbolName': 'Tesla Inc', 'hasOptions': 'Yes', 'lastPrice': '267.34', 'priceChange': '+6.86', 'percentChange': '+2.63%', 'optionsImpliedVolatilityRank1y': '54.66%', 'optionsTotalVolume': '3,449,167', 'optionsPutVolumePercent': '41.1%', 'optionsCallVolumePercent': '58.9%', 'optionsPutCallVolumeRatio': '0.70', 'tradeTime': '13:24 ET', 'symbolCode': 'STK'}, {'symbol': 'NVDA', 'symbolType': 1, 'symbolName': 'Nvidia Corp', 'hasOptions': 'Yes', 'lastPrice': '142.90', 'priceChange': '+2.49', 'percentChange': '+1.77%', 'optionsImpliedVolatilityRank1y': '48.10%', 'optionsTotalVolume': '3,367,276', 'optionsPutVolumePercent': '33.2%', 'optionsCallVolumePercent': '66.8%', 'optionsPutCallVolumeRatio': '0.50', 'tradeTime': '13:24 ET', 'symbolCode': 'STK'}, {'symbol': 'AAPL', 'symbolType': 1, 'symbolName': 'Apple Inc', 'hasOptions': 'Yes', 'lastPrice': '231.92', 'priceChange': '+1.35', 'percentChange': '+0.59%', 'optionsImpliedVolatilityRank1y': '50.86%', 'optionsTotalVolume': '560,516', 'optionsPutVolumePercent': '46.3%', 'optionsCallVolumePercent': '53.7%', 'optionsPutCallVolumeRatio': '0.86', 'tradeTime': '13:24 ET', 'symbolCode': 'STK'}, {'symbol': 'MSTR', 'symbolType': 1, 'symbolName': 'Microstrategy Cl A', 'hasOptions': 'Yes', 'lastPrice': '239.92', 'priceChange': '+4.03', 'percentChange': '+1.71%', 'optionsImpliedVolatilityRank1y': '43.30%', 'optionsTotalVolume': '509,538', 'optionsPutVolumePercent': '26.8%', 'optionsCallVolumePercent': '73.2%', 'optionsPutCallVolumeRatio': '0.37', 'tradeTime': '13:24 ET', 'symbolCode': 'STK'}, {'symbol': 'AMD', 'symbolType': 1, 'symbolName': 'Adv Micro Devices', 'hasOptions': 'Yes', 'lastPrice': '157.28', 'priceChange': '+3.84', 'percentChange': '+2.50%', 'optionsImpliedVolatilityRank1y': '63.23%', 'optionsTotalVolume': '391,438', 'optionsPutVolumePercent': '29.6%', 'optionsCallVolumePercent': '70.4%', 'optionsPutCallVolumeRatio': '0.42', 'tradeTime': '13:24 ET', 'symbolCode': 'STK'}, {'symbol': 'PLTR', 'symbolType': 1, 'symbolName': 'Palantir Technologies Inc Cl A', 'hasOptions': 'Yes', 'lastPrice': '44.68', 'priceChange': '+1.12', 'percentChange': '+2.57%', 'optionsImpliedVolatilityRank1y': '67.75%', 'optionsTotalVolume': '378,361', 'optionsPutVolumePercent': '32.4%', 'optionsCallVolumePercent': '67.6%', 'optionsPutCallVolumeRatio': '0.48', 'tradeTime': '13:24 ET', 'symbolCode': 'STK'}, {'symbol': 'DJT', 'symbolType': 1, 'symbolName': 'Trump Media & Technology Group Corp', 'hasOptions': 'Yes', 'lastPrice': '38.75', 'priceChange': '+3.80', 'percentChange': '+10.87%', 'optionsImpliedVolatilityRank1y': '86.78%', 'optionsTotalVolume': '368,289', 'optionsPutVolumePercent': '37.0%', 'optionsCallVolumePercent': '63.0%', 'optionsPutCallVolumeRatio': '0.59', 'tradeTime': '13:24 ET', 'symbolCode': 'STK'}, {'symbol': 'AMZN', 'symbolType': 1, 'symbolName': 'Amazon.com Inc', 'hasOptions': 'Yes', 'lastPrice': '189.04', 'priceChange': '+2.66', 'percentChange': '+1.43%', 'optionsImpliedVolatilityRank1y': '62.94%', 'optionsTotalVolume': '356,082', 'optionsPutVolumePercent': '27.4%', 'optionsCallVolumePercent': '72.6%', 'optionsPutCallVolumeRatio': '0.38', 'tradeTime': '13:24 ET', 'symbolCode': 'STK'}, {'symbol': 'META', 'symbolType': 1, 'symbolName': 'Meta Platforms Inc', 'hasOptions': 'Yes', 'lastPrice': '576.60', 'priceChange': '+8.82', 'percentChange': '+1.55%', 'optionsImpliedVolatilityRank1y': '78.65%', 'optionsTotalVolume': '315,611', 'optionsPutVolumePercent': '45.0%', 'optionsCallVolumePercent': '55.0%', 'optionsPutCallVolumeRatio': '0.82', 'tradeTime': '13:24 ET', 'symbolCode': 'STK'}, {'symbol': 'SMCI', 'symbolType': 1, 'symbolName': 'Super Micro Computer', 'hasOptions': 'Yes', 'lastPrice': '47.19', 'priceChange': '+0.96', 'percentChange': '+2.08%', 'optionsImpliedVolatilityRank1y': '60.00%', 'optionsTotalVolume': '284,729', 'optionsPutVolumePercent': '40.5%', 'optionsCallVolumePercent': '59.5%', 'optionsPutCallVolumeRatio': '0.68', 'tradeTime': '13:24 ET', 'symbolCode': 'STK'}, {'symbol': 'SOFI', 'symbolType': 1, 'symbolName': 'Sofi Technologies Inc', 'hasOptions': 'Yes', 'lastPrice': '10.98', 'priceChange': '+0.05', 'percentChange': '+0.46%', 'optionsImpliedVolatilityRank1y': '49.19%', 'optionsTotalVolume': '283,290', 'optionsPutVolumePercent': '27.6%', 'optionsCallVolumePercent': '72.4%', 'optionsPutCallVolumeRatio': '0.38', 'tradeTime': '13:24 ET', 'symbolCode': 'STK'}, {'symbol': 'CPRI', 'symbolType': 1, 'symbolName': 'Capri Holdings Ltd', 'hasOptions': 'Yes', 'lastPrice': '21.88', 'priceChange': '-19.72', 'percentChange': '-47.42%', 'optionsImpliedVolatilityRank1y': '40.65%', 'optionsTotalVolume': '276,312', 'optionsPutVolumePercent': '53.7%', 'optionsCallVolumePercent': '46.3%', 'optionsPutCallVolumeRatio': '1.16', 'tradeTime': '13:24 ET', 'symbolCode': 'STK'}, {'symbol': 'INTC', 'symbolType': 1, 'symbolName': 'Intel Corp', 'hasOptions': 'Yes', 'lastPrice': '22.99', 'priceChange': '+0.65', 'percentChange': '+2.92%', 'optionsImpliedVolatilityRank1y': '90.58%', 'optionsTotalVolume': '250,596', 'optionsPutVolumePercent': '26.0%', 'optionsCallVolumePercent': '74.0%', 'optionsPutCallVolumeRatio': '0.35', 'tradeTime': '13:24 ET', 'symbolCode': 'STK'}, {'symbol': 'MSFT', 'symbolType': 1, 'symbolName': 'Microsoft Corp', 'hasOptions': 'Yes', 'lastPrice': '429.15', 'priceChange': '+4.42', 'percentChange': '+1.04%', 'optionsImpliedVolatilityRank1y': '76.32%', 'optionsTotalVolume': '249,805', 'optionsPutVolumePercent': '23.7%', 'optionsCallVolumePercent': '76.3%', 'optionsPutCallVolumeRatio': '0.31', 'tradeTime': '13:24 ET', 'symbolCode': 'STK'}, {'symbol': 'MARA', 'symbolType': 1, 'symbolName': 'Mara Holdings Inc', 'hasOptions': 'Yes', 'lastPrice': '17.47', 'priceChange': '-0.75', 'percentChange': '-4.12%', 'optionsImpliedVolatilityRank1y': '26.10%', 'optionsTotalVolume': '245,965', 'optionsPutVolumePercent': '18.8%', 'optionsCallVolumePercent': '81.2%', 'optionsPutCallVolumeRatio': '0.23', 'tradeTime': '13:24 ET', 'symbolCode': 'STK'}, {'symbol': 'GOOGL', 'symbolType': 1, 'symbolName': 'Alphabet Cl A', 'hasOptions': 'Yes', 'lastPrice': '164.93', 'priceChange': '+2.21', 'percentChange': '+1.36%', 'optionsImpliedVolatilityRank1y': '86.94%', 'optionsTotalVolume': '179,374', 'optionsPutVolumePercent': '30.5%', 'optionsCallVolumePercent': '69.5%', 'optionsPutCallVolumeRatio': '0.44', 'tradeTime': '13:24 ET', 'symbolCode': 'STK'}, {'symbol': 'COIN', 'symbolType': 1, 'symbolName': 'Coinbase Global Inc Cl A', 'hasOptions': 'Yes', 'lastPrice': '210.76', 'priceChange': '+1.60', 'percentChange': '+0.76%', 'optionsImpliedVolatilityRank1y': '57.65%', 'optionsTotalVolume': '157,984', 'optionsPutVolumePercent': '30.1%', 'optionsCallVolumePercent': '69.9%', 'optionsPutCallVolumeRatio': '0.43', 'tradeTime': '13:24 ET', 'symbolCode': 'STK'}, {'symbol': 'GME', 'symbolType': 1, 'symbolName': 'Gamestop Corp', 'hasOptions': 'Yes', 'lastPrice': '20.82', 'priceChange': '+0.19', 'percentChange': '+0.92%', 'optionsImpliedVolatilityRank1y': '1.77%', 'optionsTotalVolume': '154,092', 'optionsPutVolumePercent': '12.3%', 'optionsCallVolumePercent': '87.7%', 'optionsPutCallVolumeRatio': '0.14', 'tradeTime': '13:24 ET', 'symbolCode': 'STK'}, {'symbol': 'AVGO', 'symbolType': 1, 'symbolName': 'Broadcom Ltd', 'hasOptions': 'Yes', 'lastPrice': '175.13', 'priceChange': '+3.78', 'percentChange': '+2.21%', 'optionsImpliedVolatilityRank1y': '42.18%', 'optionsTotalVolume': '144,492', 'optionsPutVolumePercent': '25.6%', 'optionsCallVolumePercent': '74.4%', 'optionsPutCallVolumeRatio': '0.34', 'tradeTime': '13:24 ET', 'symbolCode': 'STK'}, {'symbol': 'TSM', 'symbolType': 1, 'symbolName': 'Taiwan Semiconductor ADR', 'hasOptions': 'Yes', 'lastPrice': '204.72', 'priceChange': '+6.79', 'percentChange': '+3.43%', 'optionsImpliedVolatilityRank1y': '53.80%', 'optionsTotalVolume': '143,536', 'optionsPutVolumePercent': '30.9%', 'optionsCallVolumePercent': '69.1%', 'optionsPutCallVolumeRatio': '0.45', 'tradeTime': '13:24 ET', 'symbolCode': 'STK'}]}\n"
          ]
        }
      ],
      "source": [
        "import requests\n",
        "\n",
        "url = \"https://yahoo-finance15.p.rapidapi.com/api/v1/markets/options/most-active\"\n",
        "\n",
        "querystring = {\"type\":\"STOCKS\"}\n",
        "\n",
        "headers = {\n",
        "\t\"x-rapidapi-key\": \"47c1f33f94msha59e94b08c74191p1459f3jsnbaee78fd89df\",\n",
        "\t\"x-rapidapi-host\": \"yahoo-finance15.p.rapidapi.com\"\n",
        "}\n",
        "\n",
        "response = requests.get(url, headers=headers, params=querystring)\n",
        "\n",
        "print(response.json())"
      ]
    },
    {
      "cell_type": "markdown",
      "source": [
        "### 2. **Loading only specific columns from `Yahoo Finnance` API**\n",
        "\n",
        "- symbol\n",
        "- symbolType\n",
        "- symbolName\n",
        "- lastPrice\n",
        "- priceChange\n",
        "- percentChange\n",
        "- tradeTime\n",
        "- symbolCode"
      ],
      "metadata": {
        "id": "bYhYapRonO7j"
      }
    },
    {
      "cell_type": "code",
      "source": [
        "import requests\n",
        "\n",
        "url = \"https://yahoo-finance15.p.rapidapi.com/api/v1/markets/options/most-active\"\n",
        "querystring = {\"type\": \"STOCKS\"}\n",
        "headers = {\n",
        "    \"x-rapidapi-key\": \"47c1f33f94msha59e94b08c74191p1459f3jsnbaee78fd89df\",\n",
        "    \"x-rapidapi-host\": \"yahoo-finance15.p.rapidapi.com\"\n",
        "}\n",
        "\n",
        "response = requests.get(url, headers=headers, params=querystring)\n",
        "data = response.json()\n",
        "\n",
        "columns_to_load = ['symbol', 'symbolType', 'symbolName', 'lastPrice', 'priceChange',\n",
        "                   'percentChange', 'tradeTime', 'symbolCode']\n",
        "\n",
        "processed_data = [\n",
        "    {key: item[key] for key in columns_to_load if key in item}\n",
        "    for item in data['body']\n",
        "]\n",
        "\n",
        "for entry in processed_data:\n",
        "    print(entry)\n"
      ],
      "metadata": {
        "colab": {
          "base_uri": "https://localhost:8080/"
        },
        "id": "w2OGXGdlgnQR",
        "outputId": "7fe92668-d903-427e-ad0f-fb1869977409"
      },
      "execution_count": null,
      "outputs": [
        {
          "output_type": "stream",
          "name": "stdout",
          "text": [
            "{'symbol': 'TSLA', 'symbolType': 1, 'symbolName': 'Tesla Inc', 'lastPrice': '265.75', 'priceChange': '+5.27', 'percentChange': '+2.02%', 'tradeTime': '13:44 ET', 'symbolCode': 'STK'}\n",
            "{'symbol': 'NVDA', 'symbolType': 1, 'symbolName': 'Nvidia Corp', 'lastPrice': '141.48', 'priceChange': '+1.07', 'percentChange': '+0.76%', 'tradeTime': '13:44 ET', 'symbolCode': 'STK'}\n",
            "{'symbol': 'AAPL', 'symbolType': 1, 'symbolName': 'Apple Inc', 'lastPrice': '231.21', 'priceChange': '+0.64', 'percentChange': '+0.28%', 'tradeTime': '13:44 ET', 'symbolCode': 'STK'}\n",
            "{'symbol': 'MSTR', 'symbolType': 1, 'symbolName': 'Microstrategy Cl A', 'lastPrice': '235.70', 'priceChange': '-0.19', 'percentChange': '-0.08%', 'tradeTime': '13:44 ET', 'symbolCode': 'STK'}\n",
            "{'symbol': 'DJT', 'symbolType': 1, 'symbolName': 'Trump Media & Technology Group Corp', 'lastPrice': '38.86', 'priceChange': '+3.91', 'percentChange': '+11.19%', 'tradeTime': '13:44 ET', 'symbolCode': 'STK'}\n",
            "{'symbol': 'AMD', 'symbolType': 1, 'symbolName': 'Adv Micro Devices', 'lastPrice': '156.13', 'priceChange': '+2.69', 'percentChange': '+1.75%', 'tradeTime': '13:44 ET', 'symbolCode': 'STK'}\n",
            "{'symbol': 'PLTR', 'symbolType': 1, 'symbolName': 'Palantir Technologies Inc Cl A', 'lastPrice': '44.40', 'priceChange': '+0.84', 'percentChange': '+1.94%', 'tradeTime': '13:44 ET', 'symbolCode': 'STK'}\n",
            "{'symbol': 'AMZN', 'symbolType': 1, 'symbolName': 'Amazon.com Inc', 'lastPrice': '188.06', 'priceChange': '+1.68', 'percentChange': '+0.90%', 'tradeTime': '13:44 ET', 'symbolCode': 'STK'}\n",
            "{'symbol': 'META', 'symbolType': 1, 'symbolName': 'Meta Platforms Inc', 'lastPrice': '574.42', 'priceChange': '+6.64', 'percentChange': '+1.17%', 'tradeTime': '13:44 ET', 'symbolCode': 'STK'}\n",
            "{'symbol': 'SOFI', 'symbolType': 1, 'symbolName': 'Sofi Technologies Inc', 'lastPrice': '10.95', 'priceChange': '+0.02', 'percentChange': '+0.17%', 'tradeTime': '13:44 ET', 'symbolCode': 'STK'}\n",
            "{'symbol': 'SMCI', 'symbolType': 1, 'symbolName': 'Super Micro Computer', 'lastPrice': '46.90', 'priceChange': '+0.67', 'percentChange': '+1.45%', 'tradeTime': '13:44 ET', 'symbolCode': 'STK'}\n",
            "{'symbol': 'CPRI', 'symbolType': 1, 'symbolName': 'Capri Holdings Ltd', 'lastPrice': '21.68', 'priceChange': '-19.91', 'percentChange': '-47.87%', 'tradeTime': '13:44 ET', 'symbolCode': 'STK'}\n",
            "{'symbol': 'MARA', 'symbolType': 1, 'symbolName': 'Mara Holdings Inc', 'lastPrice': '17.29', 'priceChange': '-0.93', 'percentChange': '-5.10%', 'tradeTime': '13:44 ET', 'symbolCode': 'STK'}\n",
            "{'symbol': 'MSFT', 'symbolType': 1, 'symbolName': 'Microsoft Corp', 'lastPrice': '427.15', 'priceChange': '+2.42', 'percentChange': '+0.57%', 'tradeTime': '13:44 ET', 'symbolCode': 'STK'}\n",
            "{'symbol': 'INTC', 'symbolType': 1, 'symbolName': 'Intel Corp', 'lastPrice': '22.85', 'priceChange': '+0.51', 'percentChange': '+2.28%', 'tradeTime': '13:44 ET', 'symbolCode': 'STK'}\n",
            "{'symbol': 'GOOGL', 'symbolType': 1, 'symbolName': 'Alphabet Cl A', 'lastPrice': '164.54', 'priceChange': '+1.82', 'percentChange': '+1.12%', 'tradeTime': '13:44 ET', 'symbolCode': 'STK'}\n",
            "{'symbol': 'COIN', 'symbolType': 1, 'symbolName': 'Coinbase Global Inc Cl A', 'lastPrice': '209.99', 'priceChange': '+0.82', 'percentChange': '+0.39%', 'tradeTime': '13:44 ET', 'symbolCode': 'STK'}\n",
            "{'symbol': 'AVGO', 'symbolType': 1, 'symbolName': 'Broadcom Ltd', 'lastPrice': '173.79', 'priceChange': '+2.44', 'percentChange': '+1.42%', 'tradeTime': '13:44 ET', 'symbolCode': 'STK'}\n",
            "{'symbol': 'GME', 'symbolType': 1, 'symbolName': 'Gamestop Corp', 'lastPrice': '20.73', 'priceChange': '+0.10', 'percentChange': '+0.49%', 'tradeTime': '13:44 ET', 'symbolCode': 'STK'}\n",
            "{'symbol': 'TSM', 'symbolType': 1, 'symbolName': 'Taiwan Semiconductor ADR', 'lastPrice': '203.24', 'priceChange': '+5.31', 'percentChange': '+2.68%', 'tradeTime': '13:44 ET', 'symbolCode': 'STK'}\n"
          ]
        }
      ]
    },
    {
      "cell_type": "markdown",
      "source": [
        "### 3. **Processing of Data & Unit Testing / Recheck (if required)**\n",
        "\n",
        "- Here in this API Call, the data has no faults. Everything is seems to be good so **no need of rechecking functions**.\n",
        "- But if we need to recheck and assign default value to the missing or faulty values then the below function, i will add."
      ],
      "metadata": {
        "id": "Tc4o3Zzzn5Pa"
      }
    },
    {
      "cell_type": "code",
      "source": [
        "from datetime import datetime\n",
        "\n",
        "Default_Name = \"KrStocks\"\n",
        "Todays_Date = datetime.today().strftime('%m/%d/%y')\n",
        "\n",
        "def recheck_data(entry):\n",
        "    if not entry.get('symbolName'):\n",
        "        entry['symbolName'] = Default_Name\n",
        "\n",
        "    if not entry.get('tradeTime'):\n",
        "        entry['tradeTime'] = Todays_Date\n",
        "\n",
        "    return entry\n",
        "\n",
        "processed_data = [recheck_data(entry) for entry in processed_data]\n",
        "\n",
        "for entry in processed_data:\n",
        "    print(entry)\n"
      ],
      "metadata": {
        "colab": {
          "base_uri": "https://localhost:8080/"
        },
        "id": "x-bHa40Yjh0w",
        "outputId": "cdbb4f89-c151-4ca7-c7ac-7131266318fe"
      },
      "execution_count": null,
      "outputs": [
        {
          "output_type": "stream",
          "name": "stdout",
          "text": [
            "{'symbol': 'TSLA', 'symbolType': 1, 'symbolName': 'Tesla Inc', 'lastPrice': '267.83', 'priceChange': '+7.35', 'percentChange': '+2.82%', 'tradeTime': '12:24 ET', 'symbolCode': 'STK'}\n",
            "{'symbol': 'NVDA', 'symbolType': 1, 'symbolName': 'Nvidia Corp', 'lastPrice': '143.58', 'priceChange': '+3.17', 'percentChange': '+2.26%', 'tradeTime': '12:24 ET', 'symbolCode': 'STK'}\n",
            "{'symbol': 'AAPL', 'symbolType': 1, 'symbolName': 'Apple Inc', 'lastPrice': '232.64', 'priceChange': '+2.07', 'percentChange': '+0.90%', 'tradeTime': '12:24 ET', 'symbolCode': 'STK'}\n",
            "{'symbol': 'MSTR', 'symbolType': 1, 'symbolName': 'Microstrategy Cl A', 'lastPrice': '239.10', 'priceChange': '+3.21', 'percentChange': '+1.36%', 'tradeTime': '12:24 ET', 'symbolCode': 'STK'}\n",
            "{'symbol': 'AMD', 'symbolType': 1, 'symbolName': 'Adv Micro Devices', 'lastPrice': '158.15', 'priceChange': '+4.71', 'percentChange': '+3.07%', 'tradeTime': '12:24 ET', 'symbolCode': 'STK'}\n",
            "{'symbol': 'PLTR', 'symbolType': 1, 'symbolName': 'Palantir Technologies Inc Cl A', 'lastPrice': '44.72', 'priceChange': '+1.16', 'percentChange': '+2.66%', 'tradeTime': '12:24 ET', 'symbolCode': 'STK'}\n",
            "{'symbol': 'DJT', 'symbolType': 1, 'symbolName': 'Trump Media & Technology Group Corp', 'lastPrice': '39.30', 'priceChange': '+4.35', 'percentChange': '+12.45%', 'tradeTime': '12:24 ET', 'symbolCode': 'STK'}\n",
            "{'symbol': 'AMZN', 'symbolType': 1, 'symbolName': 'Amazon.com Inc', 'lastPrice': '189.95', 'priceChange': '+3.57', 'percentChange': '+1.92%', 'tradeTime': '12:24 ET', 'symbolCode': 'STK'}\n",
            "{'symbol': 'META', 'symbolType': 1, 'symbolName': 'Meta Platforms Inc', 'lastPrice': '578.74', 'priceChange': '+10.96', 'percentChange': '+1.93%', 'tradeTime': '12:24 ET', 'symbolCode': 'STK'}\n",
            "{'symbol': 'SMCI', 'symbolType': 1, 'symbolName': 'Super Micro Computer', 'lastPrice': '47.94', 'priceChange': '+1.71', 'percentChange': '+3.69%', 'tradeTime': '12:24 ET', 'symbolCode': 'STK'}\n",
            "{'symbol': 'CPRI', 'symbolType': 1, 'symbolName': 'Capri Holdings Ltd', 'lastPrice': '21.90', 'priceChange': '-19.70', 'percentChange': '-47.36%', 'tradeTime': '12:24 ET', 'symbolCode': 'STK'}\n",
            "{'symbol': 'SOFI', 'symbolType': 1, 'symbolName': 'Sofi Technologies Inc', 'lastPrice': '11.03', 'priceChange': '+0.10', 'percentChange': '+0.90%', 'tradeTime': '12:24 ET', 'symbolCode': 'STK'}\n",
            "{'symbol': 'INTC', 'symbolType': 1, 'symbolName': 'Intel Corp', 'lastPrice': '23.13', 'priceChange': '+0.79', 'percentChange': '+3.54%', 'tradeTime': '12:24 ET', 'symbolCode': 'STK'}\n",
            "{'symbol': 'MARA', 'symbolType': 1, 'symbolName': 'Mara Holdings Inc', 'lastPrice': '17.45', 'priceChange': '-0.77', 'percentChange': '-4.23%', 'tradeTime': '12:24 ET', 'symbolCode': 'STK'}\n",
            "{'symbol': 'MSFT', 'symbolType': 1, 'symbolName': 'Microsoft Corp', 'lastPrice': '430.43', 'priceChange': '+5.70', 'percentChange': '+1.34%', 'tradeTime': '12:24 ET', 'symbolCode': 'STK'}\n",
            "{'symbol': 'GOOGL', 'symbolType': 1, 'symbolName': 'Alphabet Cl A', 'lastPrice': '165.40', 'priceChange': '+2.68', 'percentChange': '+1.65%', 'tradeTime': '12:24 ET', 'symbolCode': 'STK'}\n",
            "{'symbol': 'GME', 'symbolType': 1, 'symbolName': 'Gamestop Corp', 'lastPrice': '21.01', 'priceChange': '+0.38', 'percentChange': '+1.84%', 'tradeTime': '12:24 ET', 'symbolCode': 'STK'}\n",
            "{'symbol': 'COIN', 'symbolType': 1, 'symbolName': 'Coinbase Global Inc Cl A', 'lastPrice': '209.37', 'priceChange': '+0.21', 'percentChange': '+0.10%', 'tradeTime': '12:24 ET', 'symbolCode': 'STK'}\n",
            "{'symbol': 'AVGO', 'symbolType': 1, 'symbolName': 'Broadcom Ltd', 'lastPrice': '176.14', 'priceChange': '+4.79', 'percentChange': '+2.79%', 'tradeTime': '12:24 ET', 'symbolCode': 'STK'}\n",
            "{'symbol': 'TSM', 'symbolType': 1, 'symbolName': 'Taiwan Semiconductor ADR', 'lastPrice': '204.41', 'priceChange': '+6.48', 'percentChange': '+3.27%', 'tradeTime': '12:24 ET', 'symbolCode': 'STK'}\n"
          ]
        }
      ]
    },
    {
      "cell_type": "markdown",
      "source": [
        "### **4. Transformation of data**\n",
        "\n",
        "- Here i am transforming the stock price, **from Dollar to INR**.\n",
        "- Also the price_change, from dollar to inr"
      ],
      "metadata": {
        "id": "sYHLq-LPrAy3"
      }
    },
    {
      "cell_type": "code",
      "source": [
        "USD_TO_INR_RATE = 83\n",
        "\n",
        "for entry in processed_data:\n",
        "    if 'lastPrice' in entry:\n",
        "        try:\n",
        "            entry['lastPrice'] = round(float(entry['lastPrice']) * USD_TO_INR_RATE, 2)\n",
        "        except ValueError:\n",
        "            entry['lastPrice'] = \"Invalid Price Format\"\n",
        "\n",
        "for entry in processed_data:\n",
        "    print(entry)\n"
      ],
      "metadata": {
        "colab": {
          "base_uri": "https://localhost:8080/"
        },
        "id": "OVySg09prXmP",
        "outputId": "4eed134e-bcb1-47c1-ecd7-ea845ffd2e71"
      },
      "execution_count": null,
      "outputs": [
        {
          "output_type": "stream",
          "name": "stdout",
          "text": [
            "{'symbol': 'TSLA', 'symbolType': 1, 'symbolName': 'Tesla Inc', 'lastPrice': 22229.89, 'priceChange': '+7.35', 'percentChange': '+2.82%', 'tradeTime': '12:24 ET', 'symbolCode': 'STK'}\n",
            "{'symbol': 'NVDA', 'symbolType': 1, 'symbolName': 'Nvidia Corp', 'lastPrice': 11917.14, 'priceChange': '+3.17', 'percentChange': '+2.26%', 'tradeTime': '12:24 ET', 'symbolCode': 'STK'}\n",
            "{'symbol': 'AAPL', 'symbolType': 1, 'symbolName': 'Apple Inc', 'lastPrice': 19309.12, 'priceChange': '+2.07', 'percentChange': '+0.90%', 'tradeTime': '12:24 ET', 'symbolCode': 'STK'}\n",
            "{'symbol': 'MSTR', 'symbolType': 1, 'symbolName': 'Microstrategy Cl A', 'lastPrice': 19845.3, 'priceChange': '+3.21', 'percentChange': '+1.36%', 'tradeTime': '12:24 ET', 'symbolCode': 'STK'}\n",
            "{'symbol': 'AMD', 'symbolType': 1, 'symbolName': 'Adv Micro Devices', 'lastPrice': 13126.45, 'priceChange': '+4.71', 'percentChange': '+3.07%', 'tradeTime': '12:24 ET', 'symbolCode': 'STK'}\n",
            "{'symbol': 'PLTR', 'symbolType': 1, 'symbolName': 'Palantir Technologies Inc Cl A', 'lastPrice': 3711.76, 'priceChange': '+1.16', 'percentChange': '+2.66%', 'tradeTime': '12:24 ET', 'symbolCode': 'STK'}\n",
            "{'symbol': 'DJT', 'symbolType': 1, 'symbolName': 'Trump Media & Technology Group Corp', 'lastPrice': 3261.9, 'priceChange': '+4.35', 'percentChange': '+12.45%', 'tradeTime': '12:24 ET', 'symbolCode': 'STK'}\n",
            "{'symbol': 'AMZN', 'symbolType': 1, 'symbolName': 'Amazon.com Inc', 'lastPrice': 15765.85, 'priceChange': '+3.57', 'percentChange': '+1.92%', 'tradeTime': '12:24 ET', 'symbolCode': 'STK'}\n",
            "{'symbol': 'META', 'symbolType': 1, 'symbolName': 'Meta Platforms Inc', 'lastPrice': 48035.42, 'priceChange': '+10.96', 'percentChange': '+1.93%', 'tradeTime': '12:24 ET', 'symbolCode': 'STK'}\n",
            "{'symbol': 'SMCI', 'symbolType': 1, 'symbolName': 'Super Micro Computer', 'lastPrice': 3979.02, 'priceChange': '+1.71', 'percentChange': '+3.69%', 'tradeTime': '12:24 ET', 'symbolCode': 'STK'}\n",
            "{'symbol': 'CPRI', 'symbolType': 1, 'symbolName': 'Capri Holdings Ltd', 'lastPrice': 1817.7, 'priceChange': '-19.70', 'percentChange': '-47.36%', 'tradeTime': '12:24 ET', 'symbolCode': 'STK'}\n",
            "{'symbol': 'SOFI', 'symbolType': 1, 'symbolName': 'Sofi Technologies Inc', 'lastPrice': 915.49, 'priceChange': '+0.10', 'percentChange': '+0.90%', 'tradeTime': '12:24 ET', 'symbolCode': 'STK'}\n",
            "{'symbol': 'INTC', 'symbolType': 1, 'symbolName': 'Intel Corp', 'lastPrice': 1919.79, 'priceChange': '+0.79', 'percentChange': '+3.54%', 'tradeTime': '12:24 ET', 'symbolCode': 'STK'}\n",
            "{'symbol': 'MARA', 'symbolType': 1, 'symbolName': 'Mara Holdings Inc', 'lastPrice': 1448.35, 'priceChange': '-0.77', 'percentChange': '-4.23%', 'tradeTime': '12:24 ET', 'symbolCode': 'STK'}\n",
            "{'symbol': 'MSFT', 'symbolType': 1, 'symbolName': 'Microsoft Corp', 'lastPrice': 35725.69, 'priceChange': '+5.70', 'percentChange': '+1.34%', 'tradeTime': '12:24 ET', 'symbolCode': 'STK'}\n",
            "{'symbol': 'GOOGL', 'symbolType': 1, 'symbolName': 'Alphabet Cl A', 'lastPrice': 13728.2, 'priceChange': '+2.68', 'percentChange': '+1.65%', 'tradeTime': '12:24 ET', 'symbolCode': 'STK'}\n",
            "{'symbol': 'GME', 'symbolType': 1, 'symbolName': 'Gamestop Corp', 'lastPrice': 1743.83, 'priceChange': '+0.38', 'percentChange': '+1.84%', 'tradeTime': '12:24 ET', 'symbolCode': 'STK'}\n",
            "{'symbol': 'COIN', 'symbolType': 1, 'symbolName': 'Coinbase Global Inc Cl A', 'lastPrice': 17377.71, 'priceChange': '+0.21', 'percentChange': '+0.10%', 'tradeTime': '12:24 ET', 'symbolCode': 'STK'}\n",
            "{'symbol': 'AVGO', 'symbolType': 1, 'symbolName': 'Broadcom Ltd', 'lastPrice': 14619.62, 'priceChange': '+4.79', 'percentChange': '+2.79%', 'tradeTime': '12:24 ET', 'symbolCode': 'STK'}\n",
            "{'symbol': 'TSM', 'symbolType': 1, 'symbolName': 'Taiwan Semiconductor ADR', 'lastPrice': 16966.03, 'priceChange': '+6.48', 'percentChange': '+3.27%', 'tradeTime': '12:24 ET', 'symbolCode': 'STK'}\n"
          ]
        }
      ]
    },
    {
      "cell_type": "markdown",
      "source": [
        "### **5. Applying Function or doing aggregation on the data**\n",
        "\n",
        "- Now, i will apply some function to get result out of these datas.\n",
        "- Like SUM, Count, etc..\n",
        "- Or like, calculating GST based on salary and expenses of employee from the dataset.\n",
        "\n",
        "All these we can do with the data"
      ],
      "metadata": {
        "id": "BT9krR5cs_Vs"
      }
    },
    {
      "cell_type": "code",
      "source": [
        "def add_opening_price(data):\n",
        "    for entry in data:\n",
        "        if 'lastPrice' in entry and 'priceChange' in entry:\n",
        "            try:\n",
        "                price_change_value = float(entry['priceChange'].replace('+', '').replace('-', '').strip())\n",
        "                if entry['priceChange'].startswith('+'):\n",
        "                    entry['opening_price'] = round(float(entry['lastPrice']) - price_change_value, 2)\n",
        "                else:\n",
        "                    entry['opening_price'] = round(float(entry['lastPrice']) + price_change_value, 2)\n",
        "            except ValueError:\n",
        "                entry['opening_price'] = \"Invalid Change Format\"\n",
        "\n",
        "add_opening_price(processed_data)\n",
        "\n",
        "for entry in processed_data:\n",
        "    print(entry)\n"
      ],
      "metadata": {
        "colab": {
          "base_uri": "https://localhost:8080/"
        },
        "id": "K8EjiyNftuyG",
        "outputId": "fd487290-b424-44b0-fb9c-64ce518c9bcb"
      },
      "execution_count": null,
      "outputs": [
        {
          "output_type": "stream",
          "name": "stdout",
          "text": [
            "{'symbol': 'TSLA', 'symbolType': 1, 'symbolName': 'Tesla Inc', 'lastPrice': 22229.89, 'priceChange': '+7.35', 'percentChange': '+2.82%', 'tradeTime': '12:24 ET', 'symbolCode': 'STK', 'opening_price': 22222.54}\n",
            "{'symbol': 'NVDA', 'symbolType': 1, 'symbolName': 'Nvidia Corp', 'lastPrice': 11917.14, 'priceChange': '+3.17', 'percentChange': '+2.26%', 'tradeTime': '12:24 ET', 'symbolCode': 'STK', 'opening_price': 11913.97}\n",
            "{'symbol': 'AAPL', 'symbolType': 1, 'symbolName': 'Apple Inc', 'lastPrice': 19309.12, 'priceChange': '+2.07', 'percentChange': '+0.90%', 'tradeTime': '12:24 ET', 'symbolCode': 'STK', 'opening_price': 19307.05}\n",
            "{'symbol': 'MSTR', 'symbolType': 1, 'symbolName': 'Microstrategy Cl A', 'lastPrice': 19845.3, 'priceChange': '+3.21', 'percentChange': '+1.36%', 'tradeTime': '12:24 ET', 'symbolCode': 'STK', 'opening_price': 19842.09}\n",
            "{'symbol': 'AMD', 'symbolType': 1, 'symbolName': 'Adv Micro Devices', 'lastPrice': 13126.45, 'priceChange': '+4.71', 'percentChange': '+3.07%', 'tradeTime': '12:24 ET', 'symbolCode': 'STK', 'opening_price': 13121.74}\n",
            "{'symbol': 'PLTR', 'symbolType': 1, 'symbolName': 'Palantir Technologies Inc Cl A', 'lastPrice': 3711.76, 'priceChange': '+1.16', 'percentChange': '+2.66%', 'tradeTime': '12:24 ET', 'symbolCode': 'STK', 'opening_price': 3710.6}\n",
            "{'symbol': 'DJT', 'symbolType': 1, 'symbolName': 'Trump Media & Technology Group Corp', 'lastPrice': 3261.9, 'priceChange': '+4.35', 'percentChange': '+12.45%', 'tradeTime': '12:24 ET', 'symbolCode': 'STK', 'opening_price': 3257.55}\n",
            "{'symbol': 'AMZN', 'symbolType': 1, 'symbolName': 'Amazon.com Inc', 'lastPrice': 15765.85, 'priceChange': '+3.57', 'percentChange': '+1.92%', 'tradeTime': '12:24 ET', 'symbolCode': 'STK', 'opening_price': 15762.28}\n",
            "{'symbol': 'META', 'symbolType': 1, 'symbolName': 'Meta Platforms Inc', 'lastPrice': 48035.42, 'priceChange': '+10.96', 'percentChange': '+1.93%', 'tradeTime': '12:24 ET', 'symbolCode': 'STK', 'opening_price': 48024.46}\n",
            "{'symbol': 'SMCI', 'symbolType': 1, 'symbolName': 'Super Micro Computer', 'lastPrice': 3979.02, 'priceChange': '+1.71', 'percentChange': '+3.69%', 'tradeTime': '12:24 ET', 'symbolCode': 'STK', 'opening_price': 3977.31}\n",
            "{'symbol': 'CPRI', 'symbolType': 1, 'symbolName': 'Capri Holdings Ltd', 'lastPrice': 1817.7, 'priceChange': '-19.70', 'percentChange': '-47.36%', 'tradeTime': '12:24 ET', 'symbolCode': 'STK', 'opening_price': 1837.4}\n",
            "{'symbol': 'SOFI', 'symbolType': 1, 'symbolName': 'Sofi Technologies Inc', 'lastPrice': 915.49, 'priceChange': '+0.10', 'percentChange': '+0.90%', 'tradeTime': '12:24 ET', 'symbolCode': 'STK', 'opening_price': 915.39}\n",
            "{'symbol': 'INTC', 'symbolType': 1, 'symbolName': 'Intel Corp', 'lastPrice': 1919.79, 'priceChange': '+0.79', 'percentChange': '+3.54%', 'tradeTime': '12:24 ET', 'symbolCode': 'STK', 'opening_price': 1919.0}\n",
            "{'symbol': 'MARA', 'symbolType': 1, 'symbolName': 'Mara Holdings Inc', 'lastPrice': 1448.35, 'priceChange': '-0.77', 'percentChange': '-4.23%', 'tradeTime': '12:24 ET', 'symbolCode': 'STK', 'opening_price': 1449.12}\n",
            "{'symbol': 'MSFT', 'symbolType': 1, 'symbolName': 'Microsoft Corp', 'lastPrice': 35725.69, 'priceChange': '+5.70', 'percentChange': '+1.34%', 'tradeTime': '12:24 ET', 'symbolCode': 'STK', 'opening_price': 35719.99}\n",
            "{'symbol': 'GOOGL', 'symbolType': 1, 'symbolName': 'Alphabet Cl A', 'lastPrice': 13728.2, 'priceChange': '+2.68', 'percentChange': '+1.65%', 'tradeTime': '12:24 ET', 'symbolCode': 'STK', 'opening_price': 13725.52}\n",
            "{'symbol': 'GME', 'symbolType': 1, 'symbolName': 'Gamestop Corp', 'lastPrice': 1743.83, 'priceChange': '+0.38', 'percentChange': '+1.84%', 'tradeTime': '12:24 ET', 'symbolCode': 'STK', 'opening_price': 1743.45}\n",
            "{'symbol': 'COIN', 'symbolType': 1, 'symbolName': 'Coinbase Global Inc Cl A', 'lastPrice': 17377.71, 'priceChange': '+0.21', 'percentChange': '+0.10%', 'tradeTime': '12:24 ET', 'symbolCode': 'STK', 'opening_price': 17377.5}\n",
            "{'symbol': 'AVGO', 'symbolType': 1, 'symbolName': 'Broadcom Ltd', 'lastPrice': 14619.62, 'priceChange': '+4.79', 'percentChange': '+2.79%', 'tradeTime': '12:24 ET', 'symbolCode': 'STK', 'opening_price': 14614.83}\n",
            "{'symbol': 'TSM', 'symbolType': 1, 'symbolName': 'Taiwan Semiconductor ADR', 'lastPrice': 16966.03, 'priceChange': '+6.48', 'percentChange': '+3.27%', 'tradeTime': '12:24 ET', 'symbolCode': 'STK', 'opening_price': 16959.55}\n"
          ]
        }
      ]
    },
    {
      "cell_type": "code",
      "source": [],
      "metadata": {
        "id": "xZ9qh21LblBP"
      },
      "execution_count": null,
      "outputs": []
    }
  ]
}